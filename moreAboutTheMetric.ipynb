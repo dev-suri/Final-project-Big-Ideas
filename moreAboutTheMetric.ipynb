{
 "cells": [
  {
   "cell_type": "markdown",
   "metadata": {},
   "source": [
    "# More About the Metric\n",
    "\n",
    "**After we all decide what the best neighborhood is based on our sub-section of the metric we the combine the results to find which neighborhood has the highest overall general quality. But, since we thought that certain sub-sections of our metric were more important then others, we assigned weights. Crime has a 50% weight while road quality and greenary only had a 25**"
   ]
  }
 ],
 "metadata": {
  "kernelspec": {
   "display_name": "Python 3",
   "language": "python",
   "name": "python3"
  },
  "language_info": {
   "codemirror_mode": {
    "name": "ipython",
    "version": 3
   },
   "file_extension": ".py",
   "mimetype": "text/x-python",
   "name": "python",
   "nbconvert_exporter": "python",
   "pygments_lexer": "ipython3",
   "version": "3.8.3"
  }
 },
 "nbformat": 4,
 "nbformat_minor": 4
}
