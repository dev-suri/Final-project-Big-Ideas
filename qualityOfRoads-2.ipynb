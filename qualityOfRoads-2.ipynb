{
 "cells": [
  {
   "cell_type": "markdown",
   "metadata": {},
   "source": [
    "# INTRODUCTION\n",
    "\n",
    "\n"
   ]
  },
  {
   "cell_type": "code",
   "execution_count": null,
   "metadata": {},
   "outputs": [],
   "source": []
  },
  {
   "cell_type": "markdown",
   "metadata": {},
   "source": [
    "# Road Quality"
   ]
  },
  {
   "cell_type": "code",
   "execution_count": 98,
   "metadata": {},
   "outputs": [],
   "source": [
    "import pandas as pd\n",
    "import matplotlib.pyplot as plt\n",
    "import operator\n",
    "import geopandas as gpd"
   ]
  },
  {
   "cell_type": "code",
   "execution_count": 8,
   "metadata": {},
   "outputs": [
    {
     "data": {
      "text/html": [
       "<div>\n",
       "<style scoped>\n",
       "    .dataframe tbody tr th:only-of-type {\n",
       "        vertical-align: middle;\n",
       "    }\n",
       "\n",
       "    .dataframe tbody tr th {\n",
       "        vertical-align: top;\n",
       "    }\n",
       "\n",
       "    .dataframe thead th {\n",
       "        text-align: right;\n",
       "    }\n",
       "</style>\n",
       "<table border=\"1\" class=\"dataframe\">\n",
       "  <thead>\n",
       "    <tr style=\"text-align: right;\">\n",
       "      <th></th>\n",
       "      <th>REQUEST_ID</th>\n",
       "      <th>CREATED_ON</th>\n",
       "      <th>REQUEST_TYPE</th>\n",
       "      <th>REQUEST_ORIGIN</th>\n",
       "      <th>STATUS</th>\n",
       "      <th>DEPARTMENT</th>\n",
       "      <th>NEIGHBORHOOD</th>\n",
       "      <th>COUNCIL_DISTRICT</th>\n",
       "      <th>WARD</th>\n",
       "      <th>TRACT</th>\n",
       "      <th>PUBLIC_WORKS_DIVISION</th>\n",
       "      <th>PLI_DIVISION</th>\n",
       "      <th>POLICE_ZONE</th>\n",
       "      <th>FIRE_ZONE</th>\n",
       "      <th>X</th>\n",
       "      <th>Y</th>\n",
       "      <th>GEO_ACCURACY</th>\n",
       "    </tr>\n",
       "  </thead>\n",
       "  <tbody>\n",
       "    <tr>\n",
       "      <th>0</th>\n",
       "      <td>203364.0</td>\n",
       "      <td>2017-12-15T14:53:00</td>\n",
       "      <td>Street Obstruction/Closure</td>\n",
       "      <td>Call Center</td>\n",
       "      <td>1</td>\n",
       "      <td>DOMI - Permits</td>\n",
       "      <td>Central Northside</td>\n",
       "      <td>1.0</td>\n",
       "      <td>22.0</td>\n",
       "      <td>4.200322e+10</td>\n",
       "      <td>1.0</td>\n",
       "      <td>22.0</td>\n",
       "      <td>1.0</td>\n",
       "      <td>1-7</td>\n",
       "      <td>-80.016716</td>\n",
       "      <td>40.454144</td>\n",
       "      <td>EXACT</td>\n",
       "    </tr>\n",
       "    <tr>\n",
       "      <th>1</th>\n",
       "      <td>200800.0</td>\n",
       "      <td>2017-11-29T09:54:00</td>\n",
       "      <td>Graffiti</td>\n",
       "      <td>Control Panel</td>\n",
       "      <td>1</td>\n",
       "      <td>Police - Zones 1-6</td>\n",
       "      <td>South Side Flats</td>\n",
       "      <td>3.0</td>\n",
       "      <td>16.0</td>\n",
       "      <td>4.200316e+10</td>\n",
       "      <td>3.0</td>\n",
       "      <td>16.0</td>\n",
       "      <td>3.0</td>\n",
       "      <td>4-24</td>\n",
       "      <td>-79.969952</td>\n",
       "      <td>40.429243</td>\n",
       "      <td>APPROXIMATE</td>\n",
       "    </tr>\n",
       "    <tr>\n",
       "      <th>2</th>\n",
       "      <td>201310.0</td>\n",
       "      <td>2017-12-01T13:23:00</td>\n",
       "      <td>Litter</td>\n",
       "      <td>Call Center</td>\n",
       "      <td>1</td>\n",
       "      <td>DPW - Street Maintenance</td>\n",
       "      <td>Troy Hill</td>\n",
       "      <td>1.0</td>\n",
       "      <td>24.0</td>\n",
       "      <td>4.200324e+10</td>\n",
       "      <td>1.0</td>\n",
       "      <td>24.0</td>\n",
       "      <td>1.0</td>\n",
       "      <td>1-2</td>\n",
       "      <td>-79.985859</td>\n",
       "      <td>40.459716</td>\n",
       "      <td>EXACT</td>\n",
       "    </tr>\n",
       "    <tr>\n",
       "      <th>3</th>\n",
       "      <td>200171.0</td>\n",
       "      <td>2017-11-22T14:54:00</td>\n",
       "      <td>Water Main Break</td>\n",
       "      <td>Call Center</td>\n",
       "      <td>1</td>\n",
       "      <td>Pittsburgh Water and Sewer Authority</td>\n",
       "      <td>Banksville</td>\n",
       "      <td>2.0</td>\n",
       "      <td>20.0</td>\n",
       "      <td>4.200320e+10</td>\n",
       "      <td>5.0</td>\n",
       "      <td>20.0</td>\n",
       "      <td>6.0</td>\n",
       "      <td>4-9</td>\n",
       "      <td>-80.034210</td>\n",
       "      <td>40.406969</td>\n",
       "      <td>EXACT</td>\n",
       "    </tr>\n",
       "    <tr>\n",
       "      <th>4</th>\n",
       "      <td>193043.0</td>\n",
       "      <td>2017-10-12T12:46:00</td>\n",
       "      <td>Guide Rail</td>\n",
       "      <td>Call Center</td>\n",
       "      <td>1</td>\n",
       "      <td>DPW - Construction Division</td>\n",
       "      <td>East Hills</td>\n",
       "      <td>9.0</td>\n",
       "      <td>13.0</td>\n",
       "      <td>4.200313e+10</td>\n",
       "      <td>2.0</td>\n",
       "      <td>13.0</td>\n",
       "      <td>5.0</td>\n",
       "      <td>3-19</td>\n",
       "      <td>-79.876582</td>\n",
       "      <td>40.451226</td>\n",
       "      <td>EXACT</td>\n",
       "    </tr>\n",
       "  </tbody>\n",
       "</table>\n",
       "</div>"
      ],
      "text/plain": [
       "   REQUEST_ID           CREATED_ON                REQUEST_TYPE REQUEST_ORIGIN  \\\n",
       "0    203364.0  2017-12-15T14:53:00  Street Obstruction/Closure    Call Center   \n",
       "1    200800.0  2017-11-29T09:54:00                    Graffiti  Control Panel   \n",
       "2    201310.0  2017-12-01T13:23:00                      Litter    Call Center   \n",
       "3    200171.0  2017-11-22T14:54:00            Water Main Break    Call Center   \n",
       "4    193043.0  2017-10-12T12:46:00                  Guide Rail    Call Center   \n",
       "\n",
       "   STATUS                            DEPARTMENT       NEIGHBORHOOD  \\\n",
       "0       1                        DOMI - Permits  Central Northside   \n",
       "1       1                    Police - Zones 1-6   South Side Flats   \n",
       "2       1              DPW - Street Maintenance          Troy Hill   \n",
       "3       1  Pittsburgh Water and Sewer Authority         Banksville   \n",
       "4       1           DPW - Construction Division         East Hills   \n",
       "\n",
       "   COUNCIL_DISTRICT  WARD         TRACT  PUBLIC_WORKS_DIVISION  PLI_DIVISION  \\\n",
       "0               1.0  22.0  4.200322e+10                    1.0          22.0   \n",
       "1               3.0  16.0  4.200316e+10                    3.0          16.0   \n",
       "2               1.0  24.0  4.200324e+10                    1.0          24.0   \n",
       "3               2.0  20.0  4.200320e+10                    5.0          20.0   \n",
       "4               9.0  13.0  4.200313e+10                    2.0          13.0   \n",
       "\n",
       "   POLICE_ZONE FIRE_ZONE          X          Y GEO_ACCURACY  \n",
       "0          1.0       1-7 -80.016716  40.454144        EXACT  \n",
       "1          3.0      4-24 -79.969952  40.429243  APPROXIMATE  \n",
       "2          1.0       1-2 -79.985859  40.459716        EXACT  \n",
       "3          6.0       4-9 -80.034210  40.406969        EXACT  \n",
       "4          5.0      3-19 -79.876582  40.451226        EXACT  "
      ]
     },
     "execution_count": 8,
     "metadata": {},
     "output_type": "execute_result"
    }
   ],
   "source": [
    "data = pd.read_csv(\"road_data.csv\")\n",
    "data.head()"
   ]
  },
  {
   "cell_type": "markdown",
   "metadata": {},
   "source": [
    "****"
   ]
  },
  {
   "cell_type": "code",
   "execution_count": 34,
   "metadata": {},
   "outputs": [
    {
     "data": {
      "text/html": [
       "<div>\n",
       "<style scoped>\n",
       "    .dataframe tbody tr th:only-of-type {\n",
       "        vertical-align: middle;\n",
       "    }\n",
       "\n",
       "    .dataframe tbody tr th {\n",
       "        vertical-align: top;\n",
       "    }\n",
       "\n",
       "    .dataframe thead th {\n",
       "        text-align: right;\n",
       "    }\n",
       "</style>\n",
       "<table border=\"1\" class=\"dataframe\">\n",
       "  <thead>\n",
       "    <tr style=\"text-align: right;\">\n",
       "      <th></th>\n",
       "      <th>REQUEST_ID</th>\n",
       "      <th>CREATED_ON</th>\n",
       "      <th>REQUEST_TYPE</th>\n",
       "      <th>REQUEST_ORIGIN</th>\n",
       "      <th>STATUS</th>\n",
       "      <th>DEPARTMENT</th>\n",
       "      <th>NEIGHBORHOOD</th>\n",
       "      <th>COUNCIL_DISTRICT</th>\n",
       "      <th>WARD</th>\n",
       "      <th>TRACT</th>\n",
       "      <th>PUBLIC_WORKS_DIVISION</th>\n",
       "      <th>PLI_DIVISION</th>\n",
       "      <th>POLICE_ZONE</th>\n",
       "      <th>FIRE_ZONE</th>\n",
       "      <th>X</th>\n",
       "      <th>Y</th>\n",
       "      <th>GEO_ACCURACY</th>\n",
       "    </tr>\n",
       "  </thead>\n",
       "  <tbody>\n",
       "    <tr>\n",
       "      <th>8</th>\n",
       "      <td>179176.0</td>\n",
       "      <td>2017-08-14T14:00:00</td>\n",
       "      <td>Neighborhood Issues</td>\n",
       "      <td>Control Panel</td>\n",
       "      <td>0</td>\n",
       "      <td>NaN</td>\n",
       "      <td>Middle Hill</td>\n",
       "      <td>6.0</td>\n",
       "      <td>5.0</td>\n",
       "      <td>4.200305e+10</td>\n",
       "      <td>3.0</td>\n",
       "      <td>5.0</td>\n",
       "      <td>2.0</td>\n",
       "      <td>2-1</td>\n",
       "      <td>-79.977726</td>\n",
       "      <td>40.446142</td>\n",
       "      <td>APPROXIMATE</td>\n",
       "    </tr>\n",
       "    <tr>\n",
       "      <th>12</th>\n",
       "      <td>182748.0</td>\n",
       "      <td>2017-08-28T12:49:00</td>\n",
       "      <td>Abandoned Vehicle (parked on street)</td>\n",
       "      <td>Control Panel</td>\n",
       "      <td>0</td>\n",
       "      <td>Police - AVU</td>\n",
       "      <td>Brighton Heights</td>\n",
       "      <td>1.0</td>\n",
       "      <td>27.0</td>\n",
       "      <td>4.200327e+10</td>\n",
       "      <td>1.0</td>\n",
       "      <td>27.0</td>\n",
       "      <td>1.0</td>\n",
       "      <td>1-14</td>\n",
       "      <td>-80.029944</td>\n",
       "      <td>40.486596</td>\n",
       "      <td>APPROXIMATE</td>\n",
       "    </tr>\n",
       "    <tr>\n",
       "      <th>13</th>\n",
       "      <td>184662.0</td>\n",
       "      <td>2017-09-05T13:49:00</td>\n",
       "      <td>Abandoned Vehicle (parked on street)</td>\n",
       "      <td>Call Center</td>\n",
       "      <td>0</td>\n",
       "      <td>Police - AVU</td>\n",
       "      <td>Marshall-Shadeland</td>\n",
       "      <td>1.0</td>\n",
       "      <td>27.0</td>\n",
       "      <td>4.200327e+10</td>\n",
       "      <td>1.0</td>\n",
       "      <td>27.0</td>\n",
       "      <td>1.0</td>\n",
       "      <td>1-14</td>\n",
       "      <td>-80.027634</td>\n",
       "      <td>40.470334</td>\n",
       "      <td>APPROXIMATE</td>\n",
       "    </tr>\n",
       "    <tr>\n",
       "      <th>15</th>\n",
       "      <td>185902.0</td>\n",
       "      <td>2017-09-11T13:49:00</td>\n",
       "      <td>Parks Trails</td>\n",
       "      <td>Call Center</td>\n",
       "      <td>0</td>\n",
       "      <td>DPW - Park Maintenance</td>\n",
       "      <td>NaN</td>\n",
       "      <td>6.0</td>\n",
       "      <td>1.0</td>\n",
       "      <td>4.200302e+10</td>\n",
       "      <td>NaN</td>\n",
       "      <td>1.0</td>\n",
       "      <td>NaN</td>\n",
       "      <td>1-4</td>\n",
       "      <td>-80.005966</td>\n",
       "      <td>40.438043</td>\n",
       "      <td>EXACT</td>\n",
       "    </tr>\n",
       "    <tr>\n",
       "      <th>22</th>\n",
       "      <td>167825.0</td>\n",
       "      <td>2017-07-06T15:26:00</td>\n",
       "      <td>Illegal Dumping</td>\n",
       "      <td>Control Panel</td>\n",
       "      <td>0</td>\n",
       "      <td>DOMI - Permits</td>\n",
       "      <td>East Allegheny</td>\n",
       "      <td>1.0</td>\n",
       "      <td>23.0</td>\n",
       "      <td>4.200356e+10</td>\n",
       "      <td>1.0</td>\n",
       "      <td>23.0</td>\n",
       "      <td>1.0</td>\n",
       "      <td>1-20</td>\n",
       "      <td>-79.997763</td>\n",
       "      <td>40.452695</td>\n",
       "      <td>APPROXIMATE</td>\n",
       "    </tr>\n",
       "    <tr>\n",
       "      <th>27</th>\n",
       "      <td>170189.0</td>\n",
       "      <td>2017-07-14T15:37:00</td>\n",
       "      <td>Mayor's Office</td>\n",
       "      <td>Call Center</td>\n",
       "      <td>0</td>\n",
       "      <td>311</td>\n",
       "      <td>Bloomfield</td>\n",
       "      <td>7.0</td>\n",
       "      <td>8.0</td>\n",
       "      <td>4.200308e+10</td>\n",
       "      <td>2.0</td>\n",
       "      <td>8.0</td>\n",
       "      <td>5.0</td>\n",
       "      <td>2-23</td>\n",
       "      <td>-79.948119</td>\n",
       "      <td>40.455066</td>\n",
       "      <td>APPROXIMATE</td>\n",
       "    </tr>\n",
       "    <tr>\n",
       "      <th>33</th>\n",
       "      <td>147753.0</td>\n",
       "      <td>2017-04-24T14:42:00</td>\n",
       "      <td>Abandoned Vehicle (parked on street)</td>\n",
       "      <td>Control Panel</td>\n",
       "      <td>0</td>\n",
       "      <td>Police - AVU</td>\n",
       "      <td>Central Northside</td>\n",
       "      <td>1.0</td>\n",
       "      <td>22.0</td>\n",
       "      <td>4.200322e+10</td>\n",
       "      <td>1.0</td>\n",
       "      <td>22.0</td>\n",
       "      <td>1.0</td>\n",
       "      <td>1-21</td>\n",
       "      <td>-80.012632</td>\n",
       "      <td>40.455277</td>\n",
       "      <td>APPROXIMATE</td>\n",
       "    </tr>\n",
       "    <tr>\n",
       "      <th>34</th>\n",
       "      <td>133416.0</td>\n",
       "      <td>2017-02-22T12:12:00</td>\n",
       "      <td>Abandoned Vehicle (parked on street)</td>\n",
       "      <td>Control Panel</td>\n",
       "      <td>0</td>\n",
       "      <td>Police - AVU</td>\n",
       "      <td>Spring Hill-City View</td>\n",
       "      <td>1.0</td>\n",
       "      <td>26.0</td>\n",
       "      <td>4.200326e+10</td>\n",
       "      <td>1.0</td>\n",
       "      <td>26.0</td>\n",
       "      <td>1.0</td>\n",
       "      <td>1-11</td>\n",
       "      <td>-79.998422</td>\n",
       "      <td>40.470484</td>\n",
       "      <td>APPROXIMATE</td>\n",
       "    </tr>\n",
       "    <tr>\n",
       "      <th>35</th>\n",
       "      <td>136289.0</td>\n",
       "      <td>2017-03-03T10:34:00</td>\n",
       "      <td>Abandoned Vehicle (parked on street)</td>\n",
       "      <td>Control Panel</td>\n",
       "      <td>0</td>\n",
       "      <td>Police - AVU</td>\n",
       "      <td>Troy Hill</td>\n",
       "      <td>1.0</td>\n",
       "      <td>24.0</td>\n",
       "      <td>4.200324e+10</td>\n",
       "      <td>1.0</td>\n",
       "      <td>24.0</td>\n",
       "      <td>1.0</td>\n",
       "      <td>1-2</td>\n",
       "      <td>-79.984233</td>\n",
       "      <td>40.462590</td>\n",
       "      <td>APPROXIMATE</td>\n",
       "    </tr>\n",
       "    <tr>\n",
       "      <th>36</th>\n",
       "      <td>138513.0</td>\n",
       "      <td>2017-03-09T13:12:00</td>\n",
       "      <td>Abandoned Vehicle (parked on street)</td>\n",
       "      <td>Control Panel</td>\n",
       "      <td>0</td>\n",
       "      <td>Police - AVU</td>\n",
       "      <td>Manchester</td>\n",
       "      <td>6.0</td>\n",
       "      <td>21.0</td>\n",
       "      <td>4.200321e+10</td>\n",
       "      <td>1.0</td>\n",
       "      <td>21.0</td>\n",
       "      <td>1.0</td>\n",
       "      <td>1-8</td>\n",
       "      <td>-80.023816</td>\n",
       "      <td>40.453369</td>\n",
       "      <td>APPROXIMATE</td>\n",
       "    </tr>\n",
       "  </tbody>\n",
       "</table>\n",
       "</div>"
      ],
      "text/plain": [
       "    REQUEST_ID           CREATED_ON                          REQUEST_TYPE  \\\n",
       "8     179176.0  2017-08-14T14:00:00                   Neighborhood Issues   \n",
       "12    182748.0  2017-08-28T12:49:00  Abandoned Vehicle (parked on street)   \n",
       "13    184662.0  2017-09-05T13:49:00  Abandoned Vehicle (parked on street)   \n",
       "15    185902.0  2017-09-11T13:49:00                          Parks Trails   \n",
       "22    167825.0  2017-07-06T15:26:00                       Illegal Dumping   \n",
       "27    170189.0  2017-07-14T15:37:00                        Mayor's Office   \n",
       "33    147753.0  2017-04-24T14:42:00  Abandoned Vehicle (parked on street)   \n",
       "34    133416.0  2017-02-22T12:12:00  Abandoned Vehicle (parked on street)   \n",
       "35    136289.0  2017-03-03T10:34:00  Abandoned Vehicle (parked on street)   \n",
       "36    138513.0  2017-03-09T13:12:00  Abandoned Vehicle (parked on street)   \n",
       "\n",
       "   REQUEST_ORIGIN  STATUS              DEPARTMENT           NEIGHBORHOOD  \\\n",
       "8   Control Panel       0                     NaN            Middle Hill   \n",
       "12  Control Panel       0            Police - AVU       Brighton Heights   \n",
       "13    Call Center       0            Police - AVU     Marshall-Shadeland   \n",
       "15    Call Center       0  DPW - Park Maintenance                    NaN   \n",
       "22  Control Panel       0          DOMI - Permits         East Allegheny   \n",
       "27    Call Center       0                     311             Bloomfield   \n",
       "33  Control Panel       0            Police - AVU      Central Northside   \n",
       "34  Control Panel       0            Police - AVU  Spring Hill-City View   \n",
       "35  Control Panel       0            Police - AVU              Troy Hill   \n",
       "36  Control Panel       0            Police - AVU             Manchester   \n",
       "\n",
       "    COUNCIL_DISTRICT  WARD         TRACT  PUBLIC_WORKS_DIVISION  PLI_DIVISION  \\\n",
       "8                6.0   5.0  4.200305e+10                    3.0           5.0   \n",
       "12               1.0  27.0  4.200327e+10                    1.0          27.0   \n",
       "13               1.0  27.0  4.200327e+10                    1.0          27.0   \n",
       "15               6.0   1.0  4.200302e+10                    NaN           1.0   \n",
       "22               1.0  23.0  4.200356e+10                    1.0          23.0   \n",
       "27               7.0   8.0  4.200308e+10                    2.0           8.0   \n",
       "33               1.0  22.0  4.200322e+10                    1.0          22.0   \n",
       "34               1.0  26.0  4.200326e+10                    1.0          26.0   \n",
       "35               1.0  24.0  4.200324e+10                    1.0          24.0   \n",
       "36               6.0  21.0  4.200321e+10                    1.0          21.0   \n",
       "\n",
       "    POLICE_ZONE FIRE_ZONE          X          Y GEO_ACCURACY  \n",
       "8           2.0       2-1 -79.977726  40.446142  APPROXIMATE  \n",
       "12          1.0      1-14 -80.029944  40.486596  APPROXIMATE  \n",
       "13          1.0      1-14 -80.027634  40.470334  APPROXIMATE  \n",
       "15          NaN       1-4 -80.005966  40.438043        EXACT  \n",
       "22          1.0      1-20 -79.997763  40.452695  APPROXIMATE  \n",
       "27          5.0      2-23 -79.948119  40.455066  APPROXIMATE  \n",
       "33          1.0      1-21 -80.012632  40.455277  APPROXIMATE  \n",
       "34          1.0      1-11 -79.998422  40.470484  APPROXIMATE  \n",
       "35          1.0       1-2 -79.984233  40.462590  APPROXIMATE  \n",
       "36          1.0       1-8 -80.023816  40.453369  APPROXIMATE  "
      ]
     },
     "execution_count": 34,
     "metadata": {},
     "output_type": "execute_result"
    }
   ],
   "source": [
    "dataF = data[data['STATUS'] != 1]\n",
    "dataF.head(10)"
   ]
  },
  {
   "cell_type": "markdown",
   "metadata": {},
   "source": [
    "**The first thing we need to do is get rid of all of the non-active reports which we do by filtering out all rows with a value of 1 in the status row.**"
   ]
  },
  {
   "cell_type": "markdown",
   "metadata": {},
   "source": [
    "# Quanitity of Reports"
   ]
  },
  {
   "cell_type": "code",
   "execution_count": 126,
   "metadata": {},
   "outputs": [
    {
     "data": {
      "text/plain": [
       "<BarContainer object of 23 artists>"
      ]
     },
     "execution_count": 126,
     "metadata": {},
     "output_type": "execute_result"
    },
    {
     "data": {
      "image/png": "[encoded data removed]",
      "text/plain": [
       "<Figure size 432x288 with 1 Axes>"
      ]
     },
     "metadata": {
      "needs_background": "light"
     },
     "output_type": "display_data"
    }
   ],
   "source": [
    "totals = dict()\n",
    "\n",
    "totals = dataF['NEIGHBORHOOD'].value_counts()\n",
    "descending_totals = dict( sorted(totals.items(), key=operator.itemgetter(1),reverse=True))\n",
    "\n",
    "da = dict(list(descending_totals.items())[len(descending_totals)//2:])\n",
    "db = dict(list(descending_totals.items())[:len(descending_totals)//2])\n",
    "\n",
    "d1 = dict(list(da.items())[len(da)//2:])\n",
    "d2 = dict(list(da.items())[:len(da)//2])\n",
    "d3 = dict(list(db.items())[len(db)//2:])\n",
    "d4 = dict(list(db.items())[:len(db)//2])\n",
    "\n",
    "keys = d1.keys()\n",
    "values = d1.values()\n",
    "plt.xticks(rotation=90)\n",
    "plt.title('General Road Issues in Diffrent Pittsburgh Neighborhoods')\n",
    "plt.xlabel('Neighborhoods')\n",
    "plt.ylabel('Reports')\n",
    "plt.bar(keys, values)"
   ]
  },
  {
   "cell_type": "code",
   "execution_count": 122,
   "metadata": {},
   "outputs": [
    {
     "data": {
      "text/plain": [
       "<BarContainer object of 23 artists>"
      ]
     },
     "execution_count": 122,
     "metadata": {},
     "output_type": "execute_result"
    },
    {
     "data": {
      "image/png": "[encoded data removed]",
      "text/plain": [
       "<Figure size 432x288 with 1 Axes>"
      ]
     },
     "metadata": {
      "needs_background": "light"
     },
     "output_type": "display_data"
    }
   ],
   "source": [
    "keys = d2.keys()\n",
    "values = d2.values()\n",
    "plt.xticks(rotation=90)\n",
    "plt.title('General Road Issues in Diffrent Pittsburgh Neighborhoods')\n",
    "plt.xlabel('Neighborhoods')\n",
    "plt.ylabel('Reports')\n",
    "plt.bar(keys, values)"
   ]
  },
  {
   "cell_type": "code",
   "execution_count": 123,
   "metadata": {},
   "outputs": [
    {
     "data": {
      "text/plain": [
       "<BarContainer object of 23 artists>"
      ]
     },
     "execution_count": 123,
     "metadata": {},
     "output_type": "execute_result"
    },
    {
     "data": {
      "image/png": "[encoded data removed]",
      "text/plain": [
       "<Figure size 432x288 with 1 Axes>"
      ]
     },
     "metadata": {
      "needs_background": "light"
     },
     "output_type": "display_data"
    }
   ],
   "source": [
    "keys = d3.keys()\n",
    "values = d3.values()\n",
    "plt.xticks(rotation=90)\n",
    "plt.title('General Road Issues in Diffrent Pittsburgh Neighborhoods')\n",
    "plt.xlabel('Neighborhoods')\n",
    "plt.ylabel('Reports')\n",
    "plt.bar(keys, values)"
   ]
  },
  {
   "cell_type": "code",
   "execution_count": 127,
   "metadata": {},
   "outputs": [
    {
     "data": {
      "text/plain": [
       "<BarContainer object of 22 artists>"
      ]
     },
     "execution_count": 127,
     "metadata": {},
     "output_type": "execute_result"
    },
    {
     "data": {
      "image/png": "[encoded data removed]",
      "text/plain": [
       "<Figure size 432x288 with 1 Axes>"
      ]
     },
     "metadata": {
      "needs_background": "light"
     },
     "output_type": "display_data"
    }
   ],
   "source": [
    "keys = d4.keys()\n",
    "values = d4.values()\n",
    "plt.xticks(rotation=90)\n",
    "plt.title('General Road Issues in Diffrent Pittsburgh Neighborhoods')\n",
    "plt.xlabel('Neighborhoods')\n",
    "plt.ylabel('Reports')\n",
    "plt.bar(keys, values)"
   ]
  },
  {
   "cell_type": "markdown",
   "metadata": {},
   "source": [
    "****"
   ]
  },
  {
   "cell_type": "markdown",
   "metadata": {},
   "source": [
    "# Final Thoughts"
   ]
  },
  {
   "cell_type": "code",
   "execution_count": 132,
   "metadata": {},
   "outputs": [
    {
     "name": "stdout",
     "output_type": "stream",
     "text": [
      "The neighborhoods with most reports is Brookline with: 2430\n",
      "The neighborhoods with least reports is Arlington Heights with: 6\n"
     ]
    }
   ],
   "source": [
    "print(\"The neighborhood with most reports is Brookline with:\", descending_totals['Brookline'])\n",
    "print(\"The neighborhood with least reports is Arlington Heights with:\",descending_totals['Arlington Heights'])"
   ]
  },
  {
   "cell_type": "markdown",
   "metadata": {},
   "source": [
    "**So, in terms of quality of roads alone, Brookline is the worst neighborhood and Arlington Heights is the best. Brookline doesn't even rank in the top 20 neighborhoods in terms of population so it isn't just because there are more people using the roads and reporting problems. The same goes with Arlinton too. Arlington has 20th least population, but there are neighborhoods with more less people with many more reports. "
   ]
  }
 ],
 "metadata": {
  "kernelspec": {
   "display_name": "Python 3",
   "language": "python",
   "name": "python3"
  },
  "language_info": {
   "codemirror_mode": {
    "name": "ipython",
    "version": 3
   },
   "file_extension": ".py",
   "mimetype": "text/x-python",
   "name": "python",
   "nbconvert_exporter": "python",
   "pygments_lexer": "ipython3",
   "version": "3.8.3"
  }
 },
 "nbformat": 4,
 "nbformat_minor": 4
}
